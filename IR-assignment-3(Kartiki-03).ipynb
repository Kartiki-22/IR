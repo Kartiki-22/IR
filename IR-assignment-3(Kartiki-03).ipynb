{
 "cells": [
  {
   "cell_type": "markdown",
   "id": "6bdea255",
   "metadata": {},
   "source": [
    "#NAME-KARTIKI HINGE\n",
    "#ROLL NO- 03"
   ]
  },
  {
   "cell_type": "markdown",
   "id": "6e12afee",
   "metadata": {},
   "source": [
    "# Levenshtein  Edit Distance"
   ]
  },
  {
   "cell_type": "code",
   "execution_count": 17,
   "id": "61045ec4",
   "metadata": {},
   "outputs": [
    {
     "name": "stdout",
     "output_type": "stream",
     "text": [
      "Levenshtein edit distance matrix is \n",
      "[[0, 1, 2, 3, 4], [1, 0, 1, 2, 3], [2, 1, 1, 2, 3], [3, 2, 2, 2, 3], [4, 3, 3, 3, 3]]\n",
      "Levenshtein distance between jack and jill: 3\n"
     ]
    }
   ],
   "source": [
    "def levenshtein_distance(str1, str2):\n",
    "    # Initialize matrix of size (len(str1) + 1) x (len(str2) + 1)\n",
    "    m, n = len(str1), len(str2)\n",
    "    matrix = [[0] * (n + 1) for _ in range(m + 1)]\n",
    "    \n",
    "    # Fill the first row and first column\n",
    "    for i in range(m + 1):\n",
    "        matrix[i][0] = i  # Cost of deleting all characters of str1\n",
    "    for j in range(n + 1):\n",
    "        matrix[0][j] = j  # Cost of adding all characters of str2\n",
    "        # Fill the rest of the matrix\n",
    "    for i in range(1, m + 1):\n",
    "        for j in range(1, n + 1):\n",
    "            if str1[i - 1] == str2[j - 1]:\n",
    "                cost = 0  # No cost if characters match\n",
    "            else:\n",
    "                cost = 1  # Cost of substitution\n",
    "\n",
    "            matrix[i][j] = min(matrix[i - 1][j] + 1,      # Deletion\n",
    "                           matrix[i][j - 1] + 1,      # Insertion\n",
    "                           matrix[i - 1][j - 1] + cost)  # Substitution\n",
    "         \n",
    "    print(\"Levenshtein edit distance matrix is \")\n",
    "    print(matrix)\n",
    "\n",
    "       # The Levenshtein distance is in the bottom-right corner of the matrix\n",
    "    return matrix[m][n]\n",
    "\n",
    "# Example usage:\n",
    "str1 = \"jack\"\n",
    "str2 = \"jill\"\n",
    "print(f\"Levenshtein distance between {str1} and {str2}: {levenshtein_distance(str1, str2)}\")"
   ]
  },
  {
   "cell_type": "code",
   "execution_count": null,
   "id": "4c3460a3",
   "metadata": {},
   "outputs": [],
   "source": []
  },
  {
   "cell_type": "code",
   "execution_count": null,
   "id": "156dbc91",
   "metadata": {},
   "outputs": [],
   "source": []
  }
 ],
 "metadata": {
  "kernelspec": {
   "display_name": "Python 3 (ipykernel)",
   "language": "python",
   "name": "python3"
  },
  "language_info": {
   "codemirror_mode": {
    "name": "ipython",
    "version": 3
   },
   "file_extension": ".py",
   "mimetype": "text/x-python",
   "name": "python",
   "nbconvert_exporter": "python",
   "pygments_lexer": "ipython3",
   "version": "3.9.7"
  }
 },
 "nbformat": 4,
 "nbformat_minor": 5
}
