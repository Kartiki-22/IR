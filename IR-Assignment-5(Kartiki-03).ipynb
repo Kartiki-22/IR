{
 "cells": [
  {
   "cell_type": "markdown",
   "id": "ed9f9301",
   "metadata": {},
   "source": [
    "# NAME-KARTIKI ASHOK HINGE\n",
    "# ROLL  NO-03"
   ]
  },
  {
   "cell_type": "markdown",
   "id": "61876daf",
   "metadata": {},
   "source": [
    "# Simhash Algorithm"
   ]
  },
  {
   "cell_type": "code",
   "execution_count": 5,
   "id": "f14dd66e",
   "metadata": {},
   "outputs": [
    {
     "name": "stdout",
     "output_type": "stream",
     "text": [
      "SimHash 1: 0b1001011\n",
      "SimHash 2: 0b11111000\n",
      "Hamming Distance: 5\n"
     ]
    }
   ],
   "source": [
    "class SimHash:\n",
    "    def __init__(self, tokens, hashbits=8):\n",
    "        self.hashbits = hashbits\n",
    "        self.hash = self.simhash(tokens)\n",
    "\n",
    "    def _string_hash(self, v):\n",
    "        # A simple string hashing function using MD5\n",
    "        return int(hashlib.md5(v.encode('utf-8')).hexdigest(), 16)\n",
    "\n",
    "    def simhash(self, tokens):\n",
    "        v = [0] * self.hashbits  # Initialize a vector of size `hashbits`\n",
    "\n",
    "        for token in tokens:\n",
    "            # Compute the hash of the token\n",
    "            token_hash = self._string_hash(token)\n",
    "\n",
    "            for i in range(self.hashbits):\n",
    "                # Check if the ith bit in the token's hash is set to 1\n",
    "                bitmask = 1 << i\n",
    "                if token_hash & bitmask:\n",
    "                    v[i] += 1  # Increment if bit is 1\n",
    "                else:\n",
    "                    v[i] -= 1  # Decrement if bit is 0\n",
    "\n",
    "        # Construct the SimHash fingerprint based on the sign of vector `v`\n",
    "        fingerprint = 0\n",
    "        for i in range(self.hashbits):\n",
    "            if v[i] > 0:\n",
    "                fingerprint |= 1 << i\n",
    "\n",
    "        return fingerprint\n",
    "\n",
    "    def hamming_distance(self, other):\n",
    "        # Compute the Hamming distance between this hash and another SimHash\n",
    "        x = self.hash ^ other.hash\n",
    "        dist = 0\n",
    "        while x:\n",
    "            dist += 1\n",
    "            x &= x - 1  # Clear the lowest set bit\n",
    "        return dist\n",
    "\n",
    "# Function to read and tokenize documents\n",
    "def tokenize_document(doc):\n",
    "    # Simple tokenization: split by spaces and convert to lowercase\n",
    "    return doc.lower().split()\n",
    "\n",
    "# Example Usage\n",
    "doc1 = \"\"\" Internet of Things (IoT) refers to a network of things. These\n",
    " things could be any object that we see in our daily life. These\n",
    " objects are not limited to electronic devices or some high end\n",
    " technology products but could include objects that we wont\n",
    " normally think of them as electronic like dustbins, chairs,\n",
    " clothes etc.\"\"\"\n",
    "doc2 = \"\"\"IoT stands for Internet of Things, which is a network of physical objects that are connected to the internet and can share data with other devices and systems. These objects can be anything from household items to industrial tools.\"\"\"\n",
    "\n",
    "# Tokenize the documents\n",
    "tokens1 = tokenize_document(doc1)\n",
    "tokens2 = tokenize_document(doc2)\n",
    "\n",
    "# Compute SimHash for both documents\n",
    "hash1 = SimHash(tokens1)\n",
    "hash2 = SimHash(tokens2)\n",
    "\n",
    "# Print the binary hashes and the Hamming distance\n",
    "print(f\"SimHash 1: {bin(hash1.hash)}\")\n",
    "print(f\"SimHash 2: {bin(hash2.hash)}\")\n",
    "print(f\"Hamming Distance: {hash1.hamming_distance(hash2)}\")"
   ]
  },
  {
   "cell_type": "code",
   "execution_count": null,
   "id": "8705dd32",
   "metadata": {},
   "outputs": [],
   "source": []
  }
 ],
 "metadata": {
  "kernelspec": {
   "display_name": "Python 3 (ipykernel)",
   "language": "python",
   "name": "python3"
  },
  "language_info": {
   "codemirror_mode": {
    "name": "ipython",
    "version": 3
   },
   "file_extension": ".py",
   "mimetype": "text/x-python",
   "name": "python",
   "nbconvert_exporter": "python",
   "pygments_lexer": "ipython3",
   "version": "3.9.7"
  }
 },
 "nbformat": 4,
 "nbformat_minor": 5
}
