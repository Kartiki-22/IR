{
 "cells": [
  {
   "cell_type": "code",
   "execution_count": null,
   "id": "ddc31fac",
   "metadata": {},
   "outputs": [],
   "source": [
    "#TOKENIZATION"
   ]
  },
  {
   "cell_type": "code",
   "execution_count": null,
   "id": "e6565012",
   "metadata": {},
   "outputs": [],
   "source": [
    "from nltk.tokenize import word_tokenize\n",
    "text=\"\"\"Antonio, a leading merchant of Venice, is a wealthy, respected, and popular man. Among his many \n",
    "friends is a young man named Bassanio, who owes Antonio a good deal of money. Bassanio would like to \n",
    "repay his friend, but so far he has been unable to do so. However, he now feels that he may have found a \n",
    "way—but he will again need a loan from Antonio. In Belmont, Bassanio tells Antonio, there lives a \n",
    "beautiful and young and wealthy heiress. Bassanio feels sure that he can win her hand in marriage, but he \n",
    "cannot go courting \"hands-hanging.\" If he is to make a good impression, he has to appear at least as well \n",
    "off as her other wealthy suitors. Antonio tells his young friend that he would gladly lend him whatever \n",
    "amount of money he needs, but at the present time he himself is short of cash. All of his money is tied up \n",
    "in his merchant ships, which are still at sea. However, Antonio will not disappoint Bassanio. He knows of \n",
    "a moneylender who will probably lend him the necessary amount, and Bassanio can use Antonio's good \n",
    "name as security for the loan. \n",
    "At Belmont, Portia speaks to Nerissa, her confidante, telling her how tired she is of the constant stream of \n",
    "suitors, and how she wishes to be free of the perverse obligation of her father's will: Portia cannot choose \n",
    "her own husband; she can marry only the man who chooses the correct one of three caskets—one gold, \n",
    "one silver, and one lead; one contains her portrait and that one is the lucky casket. So far, none of her \n",
    "suitors has decided to risk choosing one of the caskets, which is all for the good, because Portia has no \n",
    "liking for any of them. However, when Nerissa mentions the name of Bassanio, a possible suitor, Portia's \n",
    "mood brightens. He was once a visitor at Belmont, and Portia was impressed with him. \n",
    "Meanwhile in Venice, Shylock, a rich Jewish moneylender who harbors a secret hatred for Antonio, has \n",
    "agreed to lend Bassanio three thousand ducats for three months, on Antonio's bond. Foregoing his usual \n",
    "high interest rate, Shylock demands instead that if the day for payment falls due and the money is not \n",
    "returned, he may cut off one pound of flesh from Antonio's body. Antonio agrees because all of his ships \n",
    "are due back in Venice a full month before the bond falls due. \"\"\"\n",
    "\n",
    "\n",
    "print(word_tokenize(text))"
   ]
  },
  {
   "cell_type": "code",
   "execution_count": 11,
   "id": "ffcf2208",
   "metadata": {},
   "outputs": [],
   "source": [
    "from nltk.tokenize import sent_tokenize\n",
    "text=\"\"\"Antonio, a leading merchant of Venice, is a wealthy, respected, and popular man. Among his many \n",
    "friends is a young man named Bassanio, who owes Antonio a good deal of money. Bassanio would like to \n",
    "repay his friend, but so far he has been unable to do so. However, he now feels that he may have found a \n",
    "way—but he will again need a loan from Antonio. In Belmont, Bassanio tells Antonio, there lives a \n",
    "beautiful and young and wealthy heiress. Bassanio feels sure that he can win her hand in marriage, but he \n",
    "cannot go courting \"hands-hanging.\" If he is to make a good impression, he has to appear at least as well \n",
    "off as her other wealthy suitors. Antonio tells his young friend that he would gladly lend him whatever \n",
    "amount of money he needs, but at the present time he himself is short of cash. All of his money is tied up \n",
    "in his merchant ships, which are still at sea. However, Antonio will not disappoint Bassanio. He knows of \n",
    "a moneylender who will probably lend him the necessary amount, and Bassanio can use Antonio's good \n",
    "name as security for the loan. \n",
    "At Belmont, Portia speaks to Nerissa, her confidante, telling her how tired she is of the constant stream of \n",
    "suitors, and how she wishes to be free of the perverse obligation of her father's will: Portia cannot choose \n",
    "her own husband; she can marry only the man who chooses the correct one of three caskets—one gold, \n",
    "one silver, and one lead; one contains her portrait and that one is the lucky casket. So far, none of her \n",
    "suitors has decided to risk choosing one of the caskets, which is all for the good, because Portia has no \n",
    "liking for any of them. However, when Nerissa mentions the name of Bassanio, a possible suitor, Portia's \n",
    "mood brightens. He was once a visitor at Belmont, and Portia was impressed with him. \n",
    "Meanwhile in Venice, Shylock, a rich Jewish moneylender who harbors a secret hatred for Antonio, has \n",
    "agreed to lend Bassanio three thousand ducats for three months, on Antonio's bond. Foregoing his usual \n",
    "high interest rate, Shylock demands instead that if the day for payment falls due and the money is not \n",
    "returned, he may cut off one pound of flesh from Antonio's body. Antonio agrees because all of his ships \n",
    "are due back in Venice a full month before the bond falls due. \"\"\"\n"
   ]
  },
  {
   "cell_type": "code",
   "execution_count": 12,
   "id": "a01d245a",
   "metadata": {},
   "outputs": [
    {
     "name": "stdout",
     "output_type": "stream",
     "text": [
      "['Antonio, a leading merchant of Venice, is a wealthy, respected, and popular man.', 'Among his many \\nfriends is a young man named Bassanio, who owes Antonio a good deal of money.', 'Bassanio would like to \\nrepay his friend, but so far he has been unable to do so.', 'However, he now feels that he may have found a \\nway—but he will again need a loan from Antonio.', 'In Belmont, Bassanio tells Antonio, there lives a \\nbeautiful and young and wealthy heiress.', 'Bassanio feels sure that he can win her hand in marriage, but he \\ncannot go courting \"hands-hanging.\"', 'If he is to make a good impression, he has to appear at least as well \\noff as her other wealthy suitors.', 'Antonio tells his young friend that he would gladly lend him whatever \\namount of money he needs, but at the present time he himself is short of cash.', 'All of his money is tied up \\nin his merchant ships, which are still at sea.', 'However, Antonio will not disappoint Bassanio.', \"He knows of \\na moneylender who will probably lend him the necessary amount, and Bassanio can use Antonio's good \\nname as security for the loan.\", \"At Belmont, Portia speaks to Nerissa, her confidante, telling her how tired she is of the constant stream of \\nsuitors, and how she wishes to be free of the perverse obligation of her father's will: Portia cannot choose \\nher own husband; she can marry only the man who chooses the correct one of three caskets—one gold, \\none silver, and one lead; one contains her portrait and that one is the lucky casket.\", 'So far, none of her \\nsuitors has decided to risk choosing one of the caskets, which is all for the good, because Portia has no \\nliking for any of them.', \"However, when Nerissa mentions the name of Bassanio, a possible suitor, Portia's \\nmood brightens.\", 'He was once a visitor at Belmont, and Portia was impressed with him.', \"Meanwhile in Venice, Shylock, a rich Jewish moneylender who harbors a secret hatred for Antonio, has \\nagreed to lend Bassanio three thousand ducats for three months, on Antonio's bond.\", \"Foregoing his usual \\nhigh interest rate, Shylock demands instead that if the day for payment falls due and the money is not \\nreturned, he may cut off one pound of flesh from Antonio's body.\", 'Antonio agrees because all of his ships \\nare due back in Venice a full month before the bond falls due.']\n"
     ]
    }
   ],
   "source": [
    "print(sent_tokenize(text))"
   ]
  },
  {
   "cell_type": "code",
   "execution_count": null,
   "id": "09e000de",
   "metadata": {},
   "outputs": [],
   "source": [
    "#NORMALIZATION"
   ]
  },
  {
   "cell_type": "code",
   "execution_count": 13,
   "id": "df977f50",
   "metadata": {},
   "outputs": [
    {
     "name": "stdout",
     "output_type": "stream",
     "text": [
      "antonio, a leading merchant of venice, is a wealthy, respected, and popular man. among his many \n",
      "friends is a young man named bassanio, who owes antonio a good deal of money. bassanio would like to \n",
      "repay his friend, but so far he has been unable to do so. however, he now feels that he may have found a \n",
      "way—but he will again need a loan from antonio. in belmont, bassanio tells antonio, there lives a \n",
      "beautiful and young and wealthy heiress. bassanio feels sure that he can win her hand in marriage, but he \n",
      "cannot go courting \"hands-hanging.\" if he is to make a good impression, he has to appear at least as well \n",
      "off as her other wealthy suitors. antonio tells his young friend that he would gladly lend him whatever \n",
      "amount of money he needs, but at the present time he himself is short of cash. all of his money is tied up \n",
      "in his merchant ships, which are still at sea. however, antonio will not disappoint bassanio. he knows of \n",
      "a moneylender who will probably lend him the necessary amount, and bassanio can use antonio's good \n",
      "name as security for the loan. \n",
      "at belmont, portia speaks to nerissa, her confidante, telling her how tired she is of the constant stream of \n",
      "suitors, and how she wishes to be free of the perverse obligation of her father's will: portia cannot choose \n",
      "her own husband; she can marry only the man who chooses the correct one of three caskets—one gold, \n",
      "one silver, and one lead; one contains her portrait and that one is the lucky casket. so far, none of her \n",
      "suitors has decided to risk choosing one of the caskets, which is all for the good, because portia has no \n",
      "liking for any of them. however, when nerissa mentions the name of bassanio, a possible suitor, portia's \n",
      "mood brightens. he was once a visitor at belmont, and portia was impressed with him. \n",
      "meanwhile in venice, shylock, a rich jewish moneylender who harbors a secret hatred for antonio, has \n",
      "agreed to lend bassanio three thousand ducats for three months, on antonio's bond. foregoing his usual \n",
      "high interest rate, shylock demands instead that if the day for payment falls due and the money is not \n",
      "returned, he may cut off one pound of flesh from antonio's body. antonio agrees because all of his ships \n",
      "are due back in venice a full month before the bond falls due.\n"
     ]
    }
   ],
   "source": [
    "#to print the text in lower case\n",
    "text=\"\"\"Antonio, a leading merchant of Venice, is a wealthy, respected, and popular man. Among his many \n",
    "friends is a young man named Bassanio, who owes Antonio a good deal of money. Bassanio would like to \n",
    "repay his friend, but so far he has been unable to do so. However, he now feels that he may have found a \n",
    "way—but he will again need a loan from Antonio. In Belmont, Bassanio tells Antonio, there lives a \n",
    "beautiful and young and wealthy heiress. Bassanio feels sure that he can win her hand in marriage, but he \n",
    "cannot go courting \"hands-hanging.\" If he is to make a good impression, he has to appear at least as well \n",
    "off as her other wealthy suitors. Antonio tells his young friend that he would gladly lend him whatever \n",
    "amount of money he needs, but at the present time he himself is short of cash. All of his money is tied up \n",
    "in his merchant ships, which are still at sea. However, Antonio will not disappoint Bassanio. He knows of \n",
    "a moneylender who will probably lend him the necessary amount, and Bassanio can use Antonio's good \n",
    "name as security for the loan. \n",
    "At Belmont, Portia speaks to Nerissa, her confidante, telling her how tired she is of the constant stream of \n",
    "suitors, and how she wishes to be free of the perverse obligation of her father's will: Portia cannot choose \n",
    "her own husband; she can marry only the man who chooses the correct one of three caskets—one gold, \n",
    "one silver, and one lead; one contains her portrait and that one is the lucky casket. So far, none of her \n",
    "suitors has decided to risk choosing one of the caskets, which is all for the good, because Portia has no \n",
    "liking for any of them. However, when Nerissa mentions the name of Bassanio, a possible suitor, Portia's \n",
    "mood brightens. He was once a visitor at Belmont, and Portia was impressed with him. \n",
    "Meanwhile in Venice, Shylock, a rich Jewish moneylender who harbors a secret hatred for Antonio, has \n",
    "agreed to lend Bassanio three thousand ducats for three months, on Antonio's bond. Foregoing his usual \n",
    "high interest rate, Shylock demands instead that if the day for payment falls due and the money is not \n",
    "returned, he may cut off one pound of flesh from Antonio's body. Antonio agrees because all of his ships \n",
    "are due back in Venice a full month before the bond falls due.\"\"\"\n",
    "lower_text = text.lower()\n",
    "print(lower_text)"
   ]
  },
  {
   "cell_type": "code",
   "execution_count": 22,
   "id": "c7d7a39b",
   "metadata": {},
   "outputs": [
    {
     "name": "stdout",
     "output_type": "stream",
     "text": [
      "antonio a leading merchant of venice is a wealthy respected and popular man among his many \n",
      "friends is a young man named bassanio who owes antonio a good deal of money bassanio would like to \n",
      "repay his friend but so far he has been unable to do so however he now feels that he may have found a \n",
      "waybut he will again need a loan from antonio in belmont bassanio tells antonio there lives a \n",
      "beautiful and young and wealthy heiress bassanio feels sure that he can win her hand in marriage but he \n",
      "cannot go courting handshanging if he is to make a good impression he has to appear at least as well \n",
      "off as her other wealthy suitors antonio tells his young friend that he would gladly lend him whatever \n",
      "amount of money he needs but at the present time he himself is short of cash all of his money is tied up \n",
      "in his merchant ships which are still at sea however antonio will not disappoint bassanio he knows of \n",
      "a moneylender who will probably lend him the necessary amount and bassanio can use antonios good \n",
      "name as security for the loan \n",
      "at belmont portia speaks to nerissa her confidante telling her how tired she is of the constant stream of \n",
      "suitors and how she wishes to be free of the perverse obligation of her fathers will portia cannot choose \n",
      "her own husband she can marry only the man who chooses the correct one of three casketsone gold \n",
      "one silver and one lead one contains her portrait and that one is the lucky casket so far none of her \n",
      "suitors has decided to risk choosing one of the caskets which is all for the good because portia has no \n",
      "liking for any of them however when nerissa mentions the name of bassanio a possible suitor portias \n",
      "mood brightens he was once a visitor at belmont and portia was impressed with him \n",
      "meanwhile in venice shylock a rich jewish moneylender who harbors a secret hatred for antonio has \n",
      "agreed to lend bassanio three thousand ducats for three months on antonios bond foregoing his usual \n",
      "high interest rate shylock demands instead that if the day for payment falls due and the money is not \n",
      "returned he may cut off one pound of flesh from antonios body antonio agrees because all of his ships \n",
      "are due back in venice a full month before the bond falls due\n"
     ]
    }
   ],
   "source": [
    "#removing punctuation\n",
    "import re\n",
    "text=\"\"\"Antonio, a leading merchant of Venice, is a wealthy, respected, and popular man. Among his many \n",
    "friends is a young man named Bassanio, who owes Antonio a good deal of money. Bassanio would like to \n",
    "repay his friend, but so far he has been unable to do so. However, he now feels that he may have found a \n",
    "way—but he will again need a loan from Antonio. In Belmont, Bassanio tells Antonio, there lives a \n",
    "beautiful and young and wealthy heiress. Bassanio feels sure that he can win her hand in marriage, but he \n",
    "cannot go courting \"hands-hanging.\" If he is to make a good impression, he has to appear at least as well \n",
    "off as her other wealthy suitors. Antonio tells his young friend that he would gladly lend him whatever \n",
    "amount of money he needs, but at the present time he himself is short of cash. All of his money is tied up \n",
    "in his merchant ships, which are still at sea. However, Antonio will not disappoint Bassanio. He knows of \n",
    "a moneylender who will probably lend him the necessary amount, and Bassanio can use Antonio's good \n",
    "name as security for the loan. \n",
    "At Belmont, Portia speaks to Nerissa, her confidante, telling her how tired she is of the constant stream of \n",
    "suitors, and how she wishes to be free of the perverse obligation of her father's will: Portia cannot choose \n",
    "her own husband; she can marry only the man who chooses the correct one of three caskets—one gold, \n",
    "one silver, and one lead; one contains her portrait and that one is the lucky casket. So far, none of her \n",
    "suitors has decided to risk choosing one of the caskets, which is all for the good, because Portia has no \n",
    "liking for any of them. However, when Nerissa mentions the name of Bassanio, a possible suitor, Portia's \n",
    "mood brightens. He was once a visitor at Belmont, and Portia was impressed with him. \n",
    "Meanwhile in Venice, Shylock, a rich Jewish moneylender who harbors a secret hatred for Antonio, has \n",
    "agreed to lend Bassanio three thousand ducats for three months, on Antonio's bond. Foregoing his usual \n",
    "high interest rate, Shylock demands instead that if the day for payment falls due and the money is not \n",
    "returned, he may cut off one pound of flesh from Antonio's body. Antonio agrees because all of his ships \n",
    "are due back in Venice a full month before the bond falls due.\"\"\"\n",
    "\n",
    "no_punc_text = re.sub(r'[^\\w\\s]','',lower_text)\n",
    "print(no_punc_text)"
   ]
  },
  {
   "cell_type": "code",
   "execution_count": 24,
   "id": "80ca91b9",
   "metadata": {},
   "outputs": [
    {
     "name": "stdout",
     "output_type": "stream",
     "text": [
      " antonio , a lead merchant of venic , is a wealthi , respect , and popular man . among hi mani friend is a young man name bassanio , who owe antonio a good deal of money . bassanio would like to repay hi friend , but so far he ha been unabl to do so . howev , he now feel that he may have found a way—but he will again need a loan from antonio . in belmont , bassanio tell antonio , there live a beauti and young and wealthi heiress . bassanio feel sure that he can win her hand in marriag , but he can not go court `` hands-hang . '' if he is to make a good impress , he ha to appear at least as well off as her other wealthi suitor . antonio tell hi young friend that he would gladli lend him whatev amount of money he need , but at the present time he himself is short of cash . all of hi money is tie up in hi merchant ship , which are still at sea . howev , antonio will not disappoint bassanio . he know of a moneylend who will probabl lend him the necessari amount , and bassanio can use antonio 's good name as secur for the loan . at belmont , portia speak to nerissa , her confidant , tell her how tire she is of the constant stream of suitor , and how she wish to be free of the pervers oblig of her father 's will : portia can not choos her own husband ; she can marri onli the man who choos the correct one of three caskets—on gold , one silver , and one lead ; one contain her portrait and that one is the lucki casket . so far , none of her suitor ha decid to risk choos one of the casket , which is all for the good , becaus portia ha no like for ani of them . howev , when nerissa mention the name of bassanio , a possibl suitor , portia 's mood brighten . he wa onc a visitor at belmont , and portia wa impress with him . meanwhil in venic , shylock , a rich jewish moneylend who harbor a secret hatr for antonio , ha agre to lend bassanio three thousand ducat for three month , on antonio 's bond . forego hi usual high interest rate , shylock demand instead that if the day for payment fall due and the money is not return , he may cut off one pound of flesh from antonio 's bodi . antonio agre becaus all of hi ship are due back in venic a full month befor the bond fall due .\n"
     ]
    }
   ],
   "source": [
    "#stemming\n",
    "from nltk.stem import PorterStemmer\n",
    "from nltk.tokenize import word_tokenize\n",
    "from functools import reduce\n",
    "ps= PorterStemmer()\n",
    "text =\"\"\"Antonio, a leading merchant of Venice, is a wealthy, respected, and popular man. Among his many \n",
    "friends is a young man named Bassanio, who owes Antonio a good deal of money. Bassanio would like to \n",
    "repay his friend, but so far he has been unable to do so. However, he now feels that he may have found a \n",
    "way—but he will again need a loan from Antonio. In Belmont, Bassanio tells Antonio, there lives a \n",
    "beautiful and young and wealthy heiress. Bassanio feels sure that he can win her hand in marriage, but he \n",
    "cannot go courting \"hands-hanging.\" If he is to make a good impression, he has to appear at least as well \n",
    "off as her other wealthy suitors. Antonio tells his young friend that he would gladly lend him whatever \n",
    "amount of money he needs, but at the present time he himself is short of cash. All of his money is tied up \n",
    "in his merchant ships, which are still at sea. However, Antonio will not disappoint Bassanio. He knows of \n",
    "a moneylender who will probably lend him the necessary amount, and Bassanio can use Antonio's good \n",
    "name as security for the loan. \n",
    "At Belmont, Portia speaks to Nerissa, her confidante, telling her how tired she is of the constant stream of \n",
    "suitors, and how she wishes to be free of the perverse obligation of her father's will: Portia cannot choose \n",
    "her own husband; she can marry only the man who chooses the correct one of three caskets—one gold, \n",
    "one silver, and one lead; one contains her portrait and that one is the lucky casket. So far, none of her \n",
    "suitors has decided to risk choosing one of the caskets, which is all for the good, because Portia has no \n",
    "liking for any of them. However, when Nerissa mentions the name of Bassanio, a possible suitor, Portia's \n",
    "mood brightens. He was once a visitor at Belmont, and Portia was impressed with him. \n",
    "Meanwhile in Venice, Shylock, a rich Jewish moneylender who harbors a secret hatred for Antonio, has \n",
    "agreed to lend Bassanio three thousand ducats for three months, on Antonio's bond. Foregoing his usual \n",
    "high interest rate, Shylock demands instead that if the day for payment falls due and the money is not \n",
    "returned, he may cut off one pound of flesh from Antonio's body. Antonio agrees because all of his ships \n",
    "are due back in Venice a full month before the bond falls due.\"\"\"\n",
    "words= word_tokenize(text)\n",
    "\n",
    "stemmed_text= reduce(lambda x, y: x + \" \" + ps.stem(y),words,\"\")\n",
    "print(stemmed_text)\n",
    "\n"
   ]
  },
  {
   "cell_type": "code",
   "execution_count": 28,
   "id": "b6ad34dc",
   "metadata": {},
   "outputs": [
    {
     "name": "stdout",
     "output_type": "stream",
     "text": [
      "['i', 'me', 'my', 'myself', 'we', 'our', 'ours', 'ourselves', 'you', \"you're\", \"you've\", \"you'll\", \"you'd\", 'your', 'yours', 'yourself', 'yourselves', 'he', 'him', 'his', 'himself', 'she', \"she's\", 'her', 'hers', 'herself', 'it', \"it's\", 'its', 'itself', 'they', 'them', 'their', 'theirs', 'themselves', 'what', 'which', 'who', 'whom', 'this', 'that', \"that'll\", 'these', 'those', 'am', 'is', 'are', 'was', 'were', 'be', 'been', 'being', 'have', 'has', 'had', 'having', 'do', 'does', 'did', 'doing', 'a', 'an', 'the', 'and', 'but', 'if', 'or', 'because', 'as', 'until', 'while', 'of', 'at', 'by', 'for', 'with', 'about', 'against', 'between', 'into', 'through', 'during', 'before', 'after', 'above', 'below', 'to', 'from', 'up', 'down', 'in', 'out', 'on', 'off', 'over', 'under', 'again', 'further', 'then', 'once', 'here', 'there', 'when', 'where', 'why', 'how', 'all', 'any', 'both', 'each', 'few', 'more', 'most', 'other', 'some', 'such', 'no', 'nor', 'not', 'only', 'own', 'same', 'so', 'than', 'too', 'very', 's', 't', 'can', 'will', 'just', 'don', \"don't\", 'should', \"should've\", 'now', 'd', 'll', 'm', 'o', 're', 've', 'y', 'ain', 'aren', \"aren't\", 'couldn', \"couldn't\", 'didn', \"didn't\", 'doesn', \"doesn't\", 'hadn', \"hadn't\", 'hasn', \"hasn't\", 'haven', \"haven't\", 'isn', \"isn't\", 'ma', 'mightn', \"mightn't\", 'mustn', \"mustn't\", 'needn', \"needn't\", 'shan', \"shan't\", 'shouldn', \"shouldn't\", 'wasn', \"wasn't\", 'weren', \"weren't\", 'won', \"won't\", 'wouldn', \"wouldn't\"]\n"
     ]
    }
   ],
   "source": [
    "#STOPWORDS\n",
    "from nltk.corpus import stopwords\n",
    "\n",
    "\n",
    "print(stopwords.words('english'))\n"
   ]
  },
  {
   "cell_type": "code",
   "execution_count": null,
   "id": "36441d5c",
   "metadata": {},
   "outputs": [],
   "source": []
  }
 ],
 "metadata": {
  "kernelspec": {
   "display_name": "Python 3 (ipykernel)",
   "language": "python",
   "name": "python3"
  },
  "language_info": {
   "codemirror_mode": {
    "name": "ipython",
    "version": 3
   },
   "file_extension": ".py",
   "mimetype": "text/x-python",
   "name": "python",
   "nbconvert_exporter": "python",
   "pygments_lexer": "ipython3",
   "version": "3.9.7"
  }
 },
 "nbformat": 4,
 "nbformat_minor": 5
}
