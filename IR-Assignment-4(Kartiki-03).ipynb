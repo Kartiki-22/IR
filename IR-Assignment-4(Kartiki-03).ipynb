{
 "cells": [
  {
   "cell_type": "markdown",
   "id": "1ac0bc31",
   "metadata": {},
   "source": [
    "# NAME-KARTIKI ASHOK HINGE\n",
    "# ROLL NO- 03"
   ]
  },
  {
   "cell_type": "markdown",
   "id": "4d229d2e",
   "metadata": {},
   "source": [
    "# Building a Web Crawler"
   ]
  },
  {
   "cell_type": "code",
   "execution_count": 2,
   "id": "253ecefd",
   "metadata": {},
   "outputs": [
    {
     "name": "stdout",
     "output_type": "stream",
     "text": [
      "Title: Welcome to College of Engineering, Pune | College of Engineering, Pune\n",
      "Found 234 links on https://www.coep.org.in/\n",
      "Title: D.Y. Patil College of Engineering\n",
      "Found 143 links on https://www.dypcoeakurdi.ac.in/\n",
      "Title: PICT-Top Engineering College\n",
      "Found 208 links on https://pict.edu/\n",
      "Title: Vishwakarma Institute of Technology\n",
      "Found 219 links on https://www.vit.edu/\n",
      "Title: Sinhgad Engineering and Diploma Colleges | Empowering Academic Excellence\n",
      "Found 228 links on https://cms.sinhgad.edu/sinhgad_engineering_institutes/vadgaon_scoe/about.aspx\n",
      "Error while crawling https://cumminscollege.org/: 406 Client Error: Not Acceptable for url: https://cumminscollege.org/\n",
      "Title: \n",
      "\tTop Engineering Colleges in Pune | Engineering University in Pune\n",
      "\n",
      "Found 296 links on https://www.bvuniversity.edu.in/coepune/\n",
      "Title: DPCOE – Best and Top Engineering College in Pune, Maharashtra\n",
      "Found 122 links on https://dpcoepune.edu.in/\n",
      "Title:  VPKBIET | Baramati\n",
      "Found 324 links on https://www.vpkbiet.org/\n",
      "Title: Best Engineering Colleges in Pune, India | Top Engineering Colleges in India | MIT AOE\n",
      "Found 137 links on https://mitaoe.ac.in/\n"
     ]
    }
   ],
   "source": [
    "import requests\n",
    "from bs4 import BeautifulSoup\n",
    "import csv\n",
    "import time\n",
    "\n",
    "# List of 10 websites to crawl\n",
    "websites = [\n",
    "    \"https://www.coep.org.in/\",\n",
    "    \"https://www.dypcoeakurdi.ac.in/\",\n",
    "    \"https://pict.edu/\",\n",
    "    \"https://www.vit.edu/\",\n",
    "    \"https://cms.sinhgad.edu/sinhgad_engineering_institutes/vadgaon_scoe/about.aspx\",\n",
    "    \"https://cumminscollege.org/\",\n",
    "    \"https://www.bvuniversity.edu.in/coepune/\",\n",
    "    \"https://dpcoepune.edu.in/\",\n",
    "    \"https://www.vpkbiet.org/\",\n",
    "    \"https://mitaoe.ac.in/\"\n",
    "    # Add up to 10 websites\n",
    "]\n",
    "\n",
    "# Function to crawl and extract data\n",
    "def crawl_website(url):\n",
    "    try:\n",
    "        response = requests.get(url, headers={'User-Agent': 'Mozilla/5.0'})\n",
    "        response.raise_for_status()\n",
    "\n",
    "        soup = BeautifulSoup(response.text, 'html.parser')\n",
    "\n",
    "        title = soup.title.text if soup.title else \"No title found\"\n",
    "        links = [a.get('href') for a in soup.find_all('a', href=True)]\n",
    "\n",
    "        print(f\"Title: {title}\")\n",
    "        print(f\"Found {len(links)} links on {url}\")\n",
    "\n",
    "        save_data_to_csv(title, url, links)\n",
    "    \n",
    "    except requests.exceptions.RequestException as e:\n",
    "        print(f\"Error while crawling {url}: {e}\")\n",
    "\n",
    "# Function to save the data\n",
    "def save_data_to_csv(title, url, links):\n",
    "    with open('web_crawl_data.csv', mode='a', newline='', encoding='utf-8') as file:\n",
    "        writer = csv.writer(file)\n",
    "        writer.writerow([title, url, ', '.join(links)])\n",
    "\n",
    "# Initialize the CSV with headers\n",
    "with open('web_crawl_data.csv', mode='w', newline='', encoding='utf-8') as file:\n",
    "    writer = csv.writer(file)\n",
    "    writer.writerow(['Title', 'URL', 'Links'])\n",
    "\n",
    "# Crawl each website with a delay\n",
    "for website in websites:\n",
    "    crawl_website(website)\n",
    "    time.sleep(2)  # Delay between requests"
   ]
  },
  {
   "cell_type": "code",
   "execution_count": null,
   "id": "e88346cb",
   "metadata": {},
   "outputs": [],
   "source": []
  }
 ],
 "metadata": {
  "kernelspec": {
   "display_name": "Python 3 (ipykernel)",
   "language": "python",
   "name": "python3"
  },
  "language_info": {
   "codemirror_mode": {
    "name": "ipython",
    "version": 3
   },
   "file_extension": ".py",
   "mimetype": "text/x-python",
   "name": "python",
   "nbconvert_exporter": "python",
   "pygments_lexer": "ipython3",
   "version": "3.9.7"
  }
 },
 "nbformat": 4,
 "nbformat_minor": 5
}
