{
 "cells": [
  {
   "cell_type": "markdown",
   "id": "643ca0b3",
   "metadata": {},
   "source": [
    "# NAME-KARTIKI HINGE\n",
    "# ROLL NO- 03"
   ]
  },
  {
   "cell_type": "markdown",
   "id": "b43c1f22",
   "metadata": {},
   "source": [
    "# Stemming using Porters Algorithm"
   ]
  },
  {
   "cell_type": "code",
   "execution_count": 47,
   "id": "9f7826bd",
   "metadata": {},
   "outputs": [
    {
     "name": "stdout",
     "output_type": "stream",
     "text": [
      "Original: Booking, Stemmed: book\n",
      "Original: dripping, Stemmed: drip\n",
      "Original: finished, Stemmed: finish\n",
      "Original: precisely, Stemmed: precis\n",
      "Original: replacement, Stemmed: replac\n",
      "Original: computerized, Stemmed: computer\n",
      "Original: authenticate, Stemmed: authent\n",
      "Original: gaps, Stemmed: gap\n"
     ]
    }
   ],
   "source": [
    "# Importing  library from NLTK\n",
    "from nltk.stem import PorterStemmer\n",
    "from nltk.tokenize import word_tokenize\n",
    "\n",
    "# Initialize the Porter Stemmer\n",
    "porter_stemmer = PorterStemmer()\n",
    "\n",
    "#  words for stemming\n",
    "words = [\"Booking\", \"dripping\", \"finished\", \"precisely\", \"replacement\", \"computerized\", \"authenticate\", \"gaps\"]\n",
    "\n",
    "# Applying Porter Stemmer to each word\n",
    "porter_stemmed_words = [porter_stemmer.stem(word) for word in words]\n",
    "\n",
    "# Display stemmed versions\n",
    "for word, stemmed_word in zip(words, porter_stemmed_words):\n",
    "    print(f\"Original: {word}, Stemmed: {stemmed_word}\")"
   ]
  },
  {
   "cell_type": "markdown",
   "id": "24e72508",
   "metadata": {},
   "source": [
    "# Stemming using Lovins Algorithm"
   ]
  },
  {
   "cell_type": "code",
   "execution_count": 48,
   "id": "89b76f10",
   "metadata": {},
   "outputs": [
    {
     "name": "stdout",
     "output_type": "stream",
     "text": [
      "Requirement already satisfied: stemming in c:\\users\\admin\\anaconda3\\lib\\site-packages (1.0.1)\n"
     ]
    }
   ],
   "source": [
    "!pip install stemming\n",
    "from stemming.lovins import stem as lovins_stemmer"
   ]
  },
  {
   "cell_type": "code",
   "execution_count": 49,
   "id": "5688a0e0",
   "metadata": {},
   "outputs": [
    {
     "name": "stdout",
     "output_type": "stream",
     "text": [
      "Original: booking, Stemmed: book\n",
      "Original: dripping, Stemmed: drip\n",
      "Original: finished, Stemmed: fin\n",
      "Original: precisely, Stemmed: precis\n",
      "Original: replacement, Stemmed: replac\n",
      "Original: computerized, Stemmed: computer\n",
      "Original: authenticate, Stemmed: authentic\n",
      "Original: gaps, Stemmed: gap\n"
     ]
    }
   ],
   "source": [
    "\n",
    "\n",
    "words = [\"booking\", \"dripping\", \"finished\", \"precisely\", \"replacement\", \"computerized\", \"authenticate\", \"gaps\"]\n",
    "\n",
    "# Applying Lovins Stemmer to every word using a loop\n",
    "lovins_stemmed_words = [lovins_stemmer(word) for word in words]  \n",
    "\n",
    "# Displaying the original words and their stemmed versions\n",
    "for word, stemmed_word in zip(words, lovins_stemmed_words):\n",
    "    print(f\"Original: {word}, Stemmed: {stemmed_word}\")"
   ]
  },
  {
   "cell_type": "code",
   "execution_count": null,
   "id": "03d83a0d",
   "metadata": {},
   "outputs": [],
   "source": []
  }
 ],
 "metadata": {
  "kernelspec": {
   "display_name": "Python 3 (ipykernel)",
   "language": "python",
   "name": "python3"
  },
  "language_info": {
   "codemirror_mode": {
    "name": "ipython",
    "version": 3
   },
   "file_extension": ".py",
   "mimetype": "text/x-python",
   "name": "python",
   "nbconvert_exporter": "python",
   "pygments_lexer": "ipython3",
   "version": "3.9.7"
  }
 },
 "nbformat": 4,
 "nbformat_minor": 5
}
